{
 "cells": [
  {
   "cell_type": "code",
   "execution_count": 1,
   "metadata": {},
   "outputs": [],
   "source": [
    "import numpy as np\n",
    "import pandas as pd\n",
    "import matplotlib.pyplot as plt\n",
    "from sklearn.metrics import confusion_matrix"
   ]
  },
  {
   "cell_type": "code",
   "execution_count": 2,
   "metadata": {},
   "outputs": [],
   "source": [
    "df = pd.read_csv('data.csv')"
   ]
  },
  {
   "cell_type": "code",
   "execution_count": 3,
   "metadata": {},
   "outputs": [],
   "source": [
    "x1 = df['X1']\n",
    "x2 = df['X2']\n",
    "y = df['Y']"
   ]
  },
  {
   "cell_type": "code",
   "execution_count": 4,
   "metadata": {},
   "outputs": [],
   "source": [
    "def ini():\n",
    "    b1 = 0\n",
    "    b2 = 0\n",
    "    b0 = 0.0\n",
    "    return b0, b1, b2"
   ]
  },
  {
   "cell_type": "code",
   "execution_count": 5,
   "metadata": {},
   "outputs": [],
   "source": [
    "def forward(x1, x2, b0, b1, b2):\n",
    "    z = b0 + b1*x1 + b2*x2\n",
    "    return z"
   ]
  },
  {
   "cell_type": "code",
   "execution_count": 6,
   "metadata": {},
   "outputs": [],
   "source": [
    "def sigmoid(z):\n",
    "    a = 1/(1+np.exp(-z))\n",
    "    return a"
   ]
  },
  {
   "cell_type": "code",
   "execution_count": 7,
   "metadata": {},
   "outputs": [],
   "source": [
    "def error(a, y):\n",
    "    delta = a - y\n",
    "    return delta"
   ]
  },
  {
   "cell_type": "code",
   "execution_count": 8,
   "metadata": {},
   "outputs": [],
   "source": [
    "def update_param(b0,b1,b2,x1, x2,alpha , delta):\n",
    "    b0 = b0 - alpha * np.mean(delta)\n",
    "    b1 = b1 - alpha * np.mean(delta* x1) \n",
    "    b2 = b2 - alpha * np.mean(delta * x2)\n",
    "    return b0, b1, b2"
   ]
  },
  {
   "cell_type": "code",
   "execution_count": 9,
   "metadata": {},
   "outputs": [],
   "source": [
    "loss = []\n",
    "b1_l = []\n",
    "b2_l = []\n",
    "def gd(x1, x2, y, alpha, epochs):\n",
    "    b0, b1, b2 = ini()\n",
    "    \n",
    "    for j in range(epochs):\n",
    "        for i in range(len(df)):\n",
    "            z = forward(x1[i], x2[i], b0, b1, b2)\n",
    "            a = sigmoid(z)\n",
    "            delta = error(a, y[i])\n",
    "            b0, b1, b2 = update_param(b0, b1, b2, x1[i], x2[i], alpha, delta)\n",
    "            loss.append(delta)\n",
    "            b1_l.append(b1)\n",
    "            b2_l.append(b2)\n",
    "        if(j%5 == 0):\n",
    "            print(f\"Epoch: {j+1}, b0: {b0}, b1: {b1}, b2: {b2}\")\n",
    "    \n",
    "        \n",
    "    return b0,b1,b2"
   ]
  },
  {
   "cell_type": "code",
   "execution_count": 10,
   "metadata": {},
   "outputs": [
    {
     "name": "stdout",
     "output_type": "stream",
     "text": [
      "Epoch: 1, b0: 0.000837238293928658, b1: 0.1164357463694871, b2: -0.016075585795773135\n",
      "Epoch: 6, b0: -0.05721500330950787, b1: 0.2921617345111789, b2: -0.2253409341558444\n",
      "Epoch: 11, b0: -0.11371002539956478, b1: 0.3875180062815077, b2: -0.40577499575385606\n",
      "Epoch: 16, b0: -0.161375740246881, b1: 0.46799963068420275, b2: -0.5502079627481185\n",
      "Epoch: 21, b0: -0.20262659493395097, b1: 0.5378022737786501, b2: -0.6704545550474642\n",
      "Epoch: 26, b0: -0.23906558888279544, b1: 0.5992406057524001, b2: -0.7735691970439929\n",
      "Epoch: 31, b0: -0.27174043850796503, b1: 0.6540290196259846, b2: -0.8638962482023085\n",
      "Epoch: 36, b0: -0.3013788577199632, b1: 0.7034402896654227, b2: -0.9442997363301762\n",
      "Epoch: 41, b0: -0.32851064243494704, b1: 0.7484286028858032, b2: -1.016771626468061\n",
      "Epoch: 46, b0: -0.3535352534804521, b1: 0.789721237348154, b2: -1.0827554361020735\n",
      "Epoch: 51, b0: -0.37676216815623265, b1: 0.827882551714118, b2: -1.1433316482862976\n",
      "Epoch: 56, b0: -0.3984364400445079, b1: 0.863358075006136, b2: -1.199330496266982\n",
      "Epoch: 61, b0: -0.4187556446249671, b1: 0.8965051174163386, b2: -1.2514039354359319\n",
      "Epoch: 66, b0: -0.437881527052286, b1: 0.927614342650326, b2: -1.3000733986657207\n",
      "Epoch: 71, b0: -0.45594824763695324, b1: 0.9569252328530496, b2: -1.3457625275368572\n",
      "Epoch: 76, b0: -0.4730683641786011, b1: 0.9846373674556577, b2: -1.3888202299799404\n",
      "Epoch: 81, b0: -0.48933726423051255, b1: 1.0109187853407473, b2: -1.4295373104291549\n",
      "Epoch: 86, b0: -0.5048365090305199, b1: 1.0359122805356265, b2: -1.4681587123471467\n",
      "Epoch: 91, b0: -0.5196363967664704, b1: 1.0597402099196787, b2: -1.504892694349417\n",
      "Epoch: 96, b0: -0.5337979552950866, b1: 1.0825082129614156, b2: -1.539917818536165\n"
     ]
    }
   ],
   "source": [
    "b0, b1, b2 = gd(x1, x2, y, 0.01, 100)"
   ]
  },
  {
   "cell_type": "code",
   "execution_count": 11,
   "metadata": {},
   "outputs": [],
   "source": [
    "pred = [np.round(sigmoid(b0+b1*x1 + b2*x2)) for x1, x2 in zip(x1,x2)]"
   ]
  },
  {
   "cell_type": "code",
   "execution_count": 12,
   "metadata": {},
   "outputs": [
    {
     "name": "stdout",
     "output_type": "stream",
     "text": [
      "[[5 0]\n",
      " [0 5]]\n"
     ]
    }
   ],
   "source": [
    "print(confusion_matrix(y, pred))"
   ]
  },
  {
   "cell_type": "code",
   "execution_count": 13,
   "metadata": {},
   "outputs": [
    {
     "data": {
      "text/plain": [
       "[<matplotlib.lines.Line2D at 0x7f5758fd5780>]"
      ]
     },
     "execution_count": 13,
     "metadata": {},
     "output_type": "execute_result"
    },
    {
     "data": {
      "image/png": "[encoded data removed]",
      "text/plain": [
       "<Figure size 432x288 with 1 Axes>"
      ]
     },
     "metadata": {
      "needs_background": "light"
     },
     "output_type": "display_data"
    }
   ],
   "source": [
    "plt.plot(b2_l, loss)\n",
    "plt.plot( b1_l, loss)\n",
    "# print(b1_l)"
   ]
  },
  {
   "cell_type": "code",
   "execution_count": null,
   "metadata": {},
   "outputs": [],
   "source": []
  },
  {
   "cell_type": "code",
   "execution_count": null,
   "metadata": {},
   "outputs": [],
   "source": []
  }
 ],
 "metadata": {
  "kernelspec": {
   "display_name": "Python 3",
   "language": "python",
   "name": "python3"
  },
  "language_info": {
   "codemirror_mode": {
    "name": "ipython",
    "version": 3
   },
   "file_extension": ".py",
   "mimetype": "text/x-python",
   "name": "python",
   "nbconvert_exporter": "python",
   "pygments_lexer": "ipython3",
   "version": "3.7.0"
  }
 },
 "nbformat": 4,
 "nbformat_minor": 2
}
