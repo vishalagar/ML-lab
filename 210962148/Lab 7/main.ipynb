{
 "cells": [
  {
   "cell_type": "code",
   "execution_count": 1,
   "metadata": {},
   "outputs": [],
   "source": [
    "import numpy as np\n",
    "import pandas as pd\n",
    "import matplotlib.pyplot as plt\n",
    "from sklearn.metrics import confusion_matrix"
   ]
  },
  {
   "cell_type": "code",
   "execution_count": 2,
   "metadata": {},
   "outputs": [],
   "source": [
    "df = pd.read_csv('data.csv')"
   ]
  },
  {
   "cell_type": "code",
   "execution_count": 3,
   "metadata": {},
   "outputs": [],
   "source": [
    "x1 = df['X1']\n",
    "x2 = df['X2']\n",
    "y = df['Y']"
   ]
  },
  {
   "cell_type": "code",
   "execution_count": 5,
   "metadata": {},
   "outputs": [],
   "source": [
    "def ini():\n",
    "    b1 = np.random.randn(1) *0.01\n",
    "    b2 = np.random.randn(1) *0.01\n",
    "    b0 = 0.0\n",
    "    return b0, b1, b2"
   ]
  },
  {
   "cell_type": "code",
   "execution_count": 6,
   "metadata": {},
   "outputs": [],
   "source": [
    "def forward(x1, x2, b0, b1, b2):\n",
    "    z = b0 + b1*x1 + b2*x2\n",
    "    return z"
   ]
  },
  {
   "cell_type": "code",
   "execution_count": 8,
   "metadata": {},
   "outputs": [],
   "source": [
    "def sigmoid(z):\n",
    "    a = 1/(1+np.exp(-z))\n",
    "    return a"
   ]
  },
  {
   "cell_type": "code",
   "execution_count": 9,
   "metadata": {},
   "outputs": [],
   "source": [
    "def error(a, y):\n",
    "    delta = a - y\n",
    "    return delta"
   ]
  },
  {
   "cell_type": "code",
   "execution_count": 10,
   "metadata": {},
   "outputs": [],
   "source": [
    "def update_param(b0,b1,b2,x1, x2,alpha , delta):\n",
    "    b0 = b0 - alpha * np.mean(delta)\n",
    "    b1 = b1 - alpha * np.mean(delta* x1) \n",
    "    b2 = b2 - alpha * np.mean(delta * x2)\n",
    "    return b0, b1, b2"
   ]
  },
  {
   "cell_type": "code",
   "execution_count": 33,
   "metadata": {},
   "outputs": [],
   "source": [
    "def gd(x1, x2, y, alpha, epochs):\n",
    "    b0, b1, b2 = ini()\n",
    "    \n",
    "    for j in range(epochs):\n",
    "        for i in range(len(df)):\n",
    "            z = forward(x1, x2, b0, b1, b2)\n",
    "            a = sigmoid(z)\n",
    "            delta = error(a, y)\n",
    "            b0, b1, b2 = update_param(b0, b1, b2, x1, x2, alpha, delta)\n",
    "\n",
    "#         if(j%5 == 0):\n",
    "        print(f\"Epoch: {j+1}, b0: {b0}, b1: {b1}, b2: {b2}\")\n",
    "    \n",
    "    return b0,b1,b2"
   ]
  },
  {
   "cell_type": "code",
   "execution_count": 37,
   "metadata": {},
   "outputs": [
    {
     "name": "stdout",
     "output_type": "stream",
     "text": [
      "Epoch: 1, b0: -0.004609738341244707, b1: [0.09182568], b2: [-0.03486557]\n",
      "Epoch: 2, b0: -0.014843756546569145, b1: [0.14330355], b2: [-0.07675475]\n",
      "Epoch: 3, b0: -0.026916386495891516, b1: [0.1790752], b2: [-0.12122602]\n",
      "Epoch: 4, b0: -0.03943039550122078, b1: [0.20769883], b2: [-0.16522612]\n",
      "Epoch: 5, b0: -0.05183798754607984, b1: [0.23267806], b2: [-0.20763222]\n",
      "Epoch: 6, b0: -0.06392435382816686, b1: [0.25556158], b2: [-0.2480841]\n",
      "Epoch: 7, b0: -0.07561456907769995, b1: [0.27707396], b2: [-0.28653837]\n",
      "Epoch: 8, b0: -0.08689396803899402, b1: [0.297573], b2: [-0.32308108]\n",
      "Epoch: 9, b0: -0.09777341836942828, b1: [0.31724731], b2: [-0.35784541]\n",
      "Epoch: 10, b0: -0.10827376678570957, b1: [0.33620516], b2: [-0.39097523]\n"
     ]
    }
   ],
   "source": [
    "b0, b1, b2 = gd(x1, x2, y, 0.01, 10)"
   ]
  },
  {
   "cell_type": "code",
   "execution_count": 38,
   "metadata": {},
   "outputs": [],
   "source": [
    "pred = [np.round(sigmoid(b0+b1*x1 + b2*x2)) for x1, x2 in zip(x1,x2)]"
   ]
  },
  {
   "cell_type": "code",
   "execution_count": 39,
   "metadata": {},
   "outputs": [
    {
     "name": "stdout",
     "output_type": "stream",
     "text": [
      "[[5 0]\n",
      " [0 5]]\n"
     ]
    }
   ],
   "source": [
    "print(confusion_matrix(y, pred))"
   ]
  },
  {
   "cell_type": "code",
   "execution_count": null,
   "metadata": {},
   "outputs": [],
   "source": [
    "plt.plot()"
   ]
  },
  {
   "cell_type": "code",
   "execution_count": null,
   "metadata": {},
   "outputs": [],
   "source": []
  }
 ],
 "metadata": {
  "kernelspec": {
   "display_name": "Python 3",
   "language": "python",
   "name": "python3"
  },
  "language_info": {
   "codemirror_mode": {
    "name": "ipython",
    "version": 3
   },
   "file_extension": ".py",
   "mimetype": "text/x-python",
   "name": "python",
   "nbconvert_exporter": "python",
   "pygments_lexer": "ipython3",
   "version": "3.7.0"
  }
 },
 "nbformat": 4,
 "nbformat_minor": 2
}
