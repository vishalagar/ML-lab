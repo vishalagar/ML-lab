{
 "cells": [
  {
   "cell_type": "code",
   "execution_count": 1,
   "metadata": {},
   "outputs": [],
   "source": [
    "import numpy as np\n",
    "import pandas as pd\n",
    "import matplotlib.pyplot as plt\n",
    "from sklearn.metrics import confusion_matrix"
   ]
  },
  {
   "cell_type": "code",
   "execution_count": 2,
   "metadata": {},
   "outputs": [],
   "source": [
    "df = pd.read_csv('data.csv')"
   ]
  },
  {
   "cell_type": "code",
   "execution_count": 3,
   "metadata": {},
   "outputs": [],
   "source": [
    "x1 = df['X1']\n",
    "x2 = df['X2']\n",
    "y = df['Y']"
   ]
  },
  {
   "cell_type": "code",
   "execution_count": 39,
   "metadata": {},
   "outputs": [],
   "source": [
    "def ini():\n",
    "    b1 = 0\n",
    "    b2 = 0\n",
    "    b0 = 0.0\n",
    "    return b0, b1, b2"
   ]
  },
  {
   "cell_type": "code",
   "execution_count": 40,
   "metadata": {},
   "outputs": [],
   "source": [
    "def forward(x1, x2, b0, b1, b2):\n",
    "    z = b0 + b1*x1 + b2*x2\n",
    "    return z"
   ]
  },
  {
   "cell_type": "code",
   "execution_count": 41,
   "metadata": {},
   "outputs": [],
   "source": [
    "def sigmoid(z):\n",
    "    a = 1/(1+np.exp(-z))\n",
    "    return a"
   ]
  },
  {
   "cell_type": "code",
   "execution_count": 42,
   "metadata": {},
   "outputs": [],
   "source": [
    "def error(a, y):\n",
    "    delta = a - y\n",
    "    return delta"
   ]
  },
  {
   "cell_type": "code",
   "execution_count": 43,
   "metadata": {},
   "outputs": [],
   "source": [
    "def update_param(b0,b1,b2,x1, x2,alpha , delta):\n",
    "    b0 = b0 - alpha * np.mean(delta)\n",
    "    b1 = b1 - alpha * np.mean(delta* x1) \n",
    "    b2 = b2 - alpha * np.mean(delta * x2)\n",
    "    return b0, b1, b2"
   ]
  },
  {
   "cell_type": "code",
   "execution_count": 131,
   "metadata": {},
   "outputs": [],
   "source": [
    "loss = []\n",
    "b1_l = []\n",
    "b2_l = []\n",
    "def gd(x1, x2, y, alpha, epochs):\n",
    "    b0, b1, b2 = ini()\n",
    "    \n",
    "    for j in range(epochs):\n",
    "        for i in range(len(df)):\n",
    "            z = forward(x1[i], x2[i], b0, b1, b2)\n",
    "            a = sigmoid(z)\n",
    "            delta = error(a, y)\n",
    "            b0, b1, b2 = update_param(b0, b1, b2, x1[i], x2[i], alpha, delta)\n",
    "            loss.append(delta)\n",
    "            b1_l.append(b1)\n",
    "            b2_l.append(b2)\n",
    "        if(j%5 == 0):\n",
    "            print(f\"Epoch: {j+1}, b0: {b0}, b1: {b1}, b2: {b2}\")\n",
    "    \n",
    "        \n",
    "    return b0,b1,b2"
   ]
  },
  {
   "cell_type": "code",
   "execution_count": 132,
   "metadata": {},
   "outputs": [
    {
     "name": "stdout",
     "output_type": "stream",
     "text": [
      "Epoch: 1, b0: 0.0, b1: -4.884981308350689e-18, b2: 1.4710455076283326e-18\n",
      "Epoch: 6, b0: 0.0, b1: -2.930988785010415e-17, b2: 8.826273045769996e-18\n",
      "Epoch: 11, b0: 1.554312234475219e-18, b1: -3.597122599785511e-17, b2: 1.5848433676524118e-17\n",
      "Epoch: 16, b0: 3.8857805861880475e-18, b1: -3.3750779948604813e-17, b2: 2.2704060853584465e-17\n",
      "Epoch: 21, b0: 6.217248937900876e-18, b1: -3.1530333899354517e-17, b2: 2.9559688030644816e-17\n",
      "Epoch: 26, b0: 7.771561172376097e-18, b1: -3.8191672047105474e-17, b2: 3.658184866139895e-17\n",
      "Epoch: 31, b0: 1.0103029524088927e-17, b1: -3.597122599785518e-17, b2: 4.3437475838459316e-17\n",
      "Epoch: 36, b0: 1.2434497875801758e-17, b1: -3.375077994860488e-17, b2: 5.029310301551968e-17\n",
      "Epoch: 41, b0: 1.476596622751459e-17, b1: -3.1530333899354585e-17, b2: 5.714873019258004e-17\n",
      "Epoch: 46, b0: 1.6431300764452325e-17, b1: -3.4194869158454975e-17, b2: 5.77871084317395e-17\n",
      "Epoch: 51, b0: 1.809663530139006e-17, b1: -3.6859404417555365e-17, b2: 5.842548667089899e-17\n",
      "Epoch: 56, b0: 1.9761969838327798e-17, b1: -3.9523939676655756e-17, b2: 5.906386491005845e-17\n",
      "Epoch: 61, b0: 2.2204460492503144e-17, b1: -3.330669073875489e-17, b2: 5.953570969552416e-17\n",
      "Epoch: 66, b0: 2.386979502944088e-17, b1: -3.597122599785528e-17, b2: 6.017408793468362e-17\n",
      "Epoch: 71, b0: 2.5646151868841133e-17, b1: -3.4638958368305106e-17, b2: 5.442868378224845e-17\n",
      "Epoch: 76, b0: 2.731148640577887e-17, b1: -3.7303493627405496e-17, b2: 5.506706202140791e-17\n",
      "Epoch: 81, b0: 2.8976820942716605e-17, b1: -3.9968028886505887e-17, b2: 5.570544026056738e-17\n",
      "Epoch: 86, b0: 3.141931159689195e-17, b1: -3.375077994860502e-17, b2: 5.617728504603308e-17\n",
      "Epoch: 91, b0: 3.308464613382969e-17, b1: -3.6415315207705413e-17, b2: 5.681566328519255e-17\n",
      "Epoch: 96, b0: 3.4749980670767424e-17, b1: -3.9079850466805804e-17, b2: 5.745404152435202e-17\n"
     ]
    }
   ],
   "source": [
    "b0, b1, b2 = gd(x1, x2, y, 0.01, 100)"
   ]
  },
  {
   "cell_type": "code",
   "execution_count": 133,
   "metadata": {},
   "outputs": [],
   "source": [
    "pred = [np.round(sigmoid(b0+b1*x1 + b2*x2)) for x1, x2 in zip(x1,x2)]"
   ]
  },
  {
   "cell_type": "code",
   "execution_count": 134,
   "metadata": {},
   "outputs": [
    {
     "name": "stdout",
     "output_type": "stream",
     "text": [
      "[[5 0]\n",
      " [5 0]]\n"
     ]
    }
   ],
   "source": [
    "print(confusion_matrix(y, pred))"
   ]
  },
  {
   "cell_type": "code",
   "execution_count": 135,
   "metadata": {},
   "outputs": [
    {
     "data": {
      "text/plain": [
       "[<matplotlib.lines.Line2D at 0x7f43692b5860>,\n",
       " <matplotlib.lines.Line2D at 0x7f4369073cf8>,\n",
       " <matplotlib.lines.Line2D at 0x7f4369073e48>,\n",
       " <matplotlib.lines.Line2D at 0x7f4369073f98>,\n",
       " <matplotlib.lines.Line2D at 0x7f436907d128>,\n",
       " <matplotlib.lines.Line2D at 0x7f436907d278>,\n",
       " <matplotlib.lines.Line2D at 0x7f436907d3c8>,\n",
       " <matplotlib.lines.Line2D at 0x7f436907d518>,\n",
       " <matplotlib.lines.Line2D at 0x7f436907d668>,\n",
       " <matplotlib.lines.Line2D at 0x7f436907d7b8>]"
      ]
     },
     "execution_count": 135,
     "metadata": {},
     "output_type": "execute_result"
    },
    {
     "data": {
      "image/png": "[encoded data removed]",
      "text/plain": [
       "<Figure size 432x288 with 1 Axes>"
      ]
     },
     "metadata": {
      "needs_background": "light"
     },
     "output_type": "display_data"
    }
   ],
   "source": [
    "plt.plot(b2_l, loss)\n",
    "plt.plot( b1_l, loss)\n",
    "# print(b1_l)"
   ]
  },
  {
   "cell_type": "code",
   "execution_count": null,
   "metadata": {},
   "outputs": [],
   "source": []
  }
 ],
 "metadata": {
  "kernelspec": {
   "display_name": "Python 3",
   "language": "python",
   "name": "python3"
  },
  "language_info": {
   "codemirror_mode": {
    "name": "ipython",
    "version": 3
   },
   "file_extension": ".py",
   "mimetype": "text/x-python",
   "name": "python",
   "nbconvert_exporter": "python",
   "pygments_lexer": "ipython3",
   "version": "3.7.0"
  }
 },
 "nbformat": 4,
 "nbformat_minor": 2
}
