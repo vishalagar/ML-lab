{
 "cells": [
  {
   "cell_type": "code",
   "execution_count": 1,
   "metadata": {},
   "outputs": [],
   "source": [
    "import numpy as np\n",
    "import pandas as pd\n",
    "import matplotlib.pyplot as plt\n",
    "from sklearn.metrics import confusion_matrix"
   ]
  },
  {
   "cell_type": "code",
   "execution_count": 2,
   "metadata": {},
   "outputs": [],
   "source": [
    "df = pd.read_csv('data.csv')"
   ]
  },
  {
   "cell_type": "code",
   "execution_count": 3,
   "metadata": {},
   "outputs": [],
   "source": [
    "x1 = df['X1']\n",
    "x2 = df['X2']\n",
    "y = df['Y']\n",
    "# len(df)"
   ]
  },
  {
   "cell_type": "code",
   "execution_count": 4,
   "metadata": {},
   "outputs": [],
   "source": [
    "def ini():\n",
    "    b1 = 0\n",
    "    b2 = 0\n",
    "    b0 = 0.0\n",
    "    return b0, b1, b2"
   ]
  },
  {
   "cell_type": "code",
   "execution_count": 5,
   "metadata": {},
   "outputs": [],
   "source": [
    "def forward(x1, x2, b0, b1, b2):\n",
    "    z = b0 + b1*x1 + b2*x2\n",
    "    return z"
   ]
  },
  {
   "cell_type": "code",
   "execution_count": 6,
   "metadata": {},
   "outputs": [],
   "source": [
    "def sigmoid(z):\n",
    "    a = 1/(1+np.exp(-z))\n",
    "    return a"
   ]
  },
  {
   "cell_type": "code",
   "execution_count": 7,
   "metadata": {},
   "outputs": [],
   "source": [
    "def error(a, y):\n",
    "    delta = a - y\n",
    "    return delta"
   ]
  },
  {
   "cell_type": "code",
   "execution_count": 8,
   "metadata": {},
   "outputs": [],
   "source": [
    "def update_param(b0,b1,b2,x1, x2,alpha , delta):\n",
    "    b0 = b0 - alpha * np.mean(delta)\n",
    "    b1 = b1 - alpha * np.mean(delta* x1) \n",
    "    b2 = b2 - alpha * np.mean(delta * x2)\n",
    "    return b0, b1, b2"
   ]
  },
  {
   "cell_type": "code",
   "execution_count": 14,
   "metadata": {},
   "outputs": [],
   "source": [
    "\n",
    "def gd(x1, x2, y, alpha, epochs):\n",
    "    loss = []\n",
    "    b1_l = []\n",
    "    b2_l = []\n",
    "    b0, b1, b2 = ini()\n",
    "    \n",
    "    for j in range(epochs):\n",
    "        for i in range(len(df)):\n",
    "            z = forward(x1[i], x2[i], b0, b1, b2)\n",
    "            a = sigmoid(z)\n",
    "            delta = error(a, y[i])\n",
    "            b0, b1, b2 = update_param(b0, b1, b2, x1[i], x2[i], alpha, delta)\n",
    "            loss.append(delta)\n",
    "            b1_l.append(b1)\n",
    "            b2_l.append(b2)\n",
    "        if(j%10 == 0):\n",
    "            print(f\"Epoch: {j+1}, b0: {b0}, b1: {b1}, b2: {b2}\")\n",
    "    plt.plot(b2_l, loss)\n",
    "    plt.plot( b1_l, loss)\n",
    "        \n",
    "    return b0,b1,b2"
   ]
  },
  {
   "cell_type": "code",
   "execution_count": 15,
   "metadata": {},
   "outputs": [
    {
     "name": "stdout",
     "output_type": "stream",
     "text": [
      "Epoch: 1, b0: 0.000837238293928658, b1: 0.1164357463694871, b2: -0.016075585795773135\n",
      "Epoch: 11, b0: -0.11371002539956478, b1: 0.3875180062815077, b2: -0.40577499575385606\n",
      "Epoch: 21, b0: -0.20262659493395097, b1: 0.5378022737786501, b2: -0.6704545550474642\n",
      "Epoch: 31, b0: -0.27174043850796503, b1: 0.6540290196259846, b2: -0.8638962482023085\n",
      "Epoch: 41, b0: -0.32851064243494704, b1: 0.7484286028858032, b2: -1.016771626468061\n",
      "Epoch: 51, b0: -0.37676216815623265, b1: 0.827882551714118, b2: -1.1433316482862976\n",
      "Epoch: 61, b0: -0.4187556446249671, b1: 0.8965051174163386, b2: -1.2514039354359319\n",
      "Epoch: 71, b0: -0.45594824763695324, b1: 0.9569252328530496, b2: -1.3457625275368572\n",
      "Epoch: 81, b0: -0.48933726423051255, b1: 1.0109187853407473, b2: -1.4295373104291549\n",
      "Epoch: 91, b0: -0.5196363967664704, b1: 1.0597402099196787, b2: -1.504892694349417\n",
      "Epoch: 101, b0: -0.5473745109267335, b1: 1.1043081244946962, b2: -1.5733883489999667\n"
     ]
    },
    {
     "data": {
      "image/png": "[encoded data removed]",
      "text/plain": [
       "<Figure size 432x288 with 1 Axes>"
      ]
     },
     "metadata": {
      "needs_background": "light"
     },
     "output_type": "display_data"
    }
   ],
   "source": [
    "b0, b1, b2 = gd(x1, x2, y, 0.01, 101)"
   ]
  },
  {
   "cell_type": "code",
   "execution_count": 11,
   "metadata": {},
   "outputs": [],
   "source": [
    "pred = [np.round(sigmoid(b0+b1*x1 + b2*x2)) for x1, x2 in zip(x1,x2)]"
   ]
  },
  {
   "cell_type": "code",
   "execution_count": 12,
   "metadata": {},
   "outputs": [
    {
     "name": "stdout",
     "output_type": "stream",
     "text": [
      "[[5 0]\n",
      " [0 5]]\n"
     ]
    }
   ],
   "source": [
    "print(confusion_matrix(y, pred))"
   ]
  },
  {
   "cell_type": "code",
   "execution_count": 13,
   "metadata": {},
   "outputs": [
    {
     "ename": "NameError",
     "evalue": "name 'b2_l' is not defined",
     "output_type": "error",
     "traceback": [
      "\u001b[0;31m---------------------------------------------------------------------------\u001b[0m",
      "\u001b[0;31mNameError\u001b[0m                                 Traceback (most recent call last)",
      "\u001b[0;32m<ipython-input-13-d4bc322e1d61>\u001b[0m in \u001b[0;36m<module>\u001b[0;34m()\u001b[0m\n\u001b[1;32m      1\u001b[0m \u001b[0;31m# plt.fi\u001b[0m\u001b[0;34m\u001b[0m\u001b[0;34m\u001b[0m\u001b[0m\n\u001b[0;32m----> 2\u001b[0;31m \u001b[0mplt\u001b[0m\u001b[0;34m.\u001b[0m\u001b[0mplot\u001b[0m\u001b[0;34m(\u001b[0m\u001b[0mb2_l\u001b[0m\u001b[0;34m,\u001b[0m \u001b[0mloss\u001b[0m\u001b[0;34m)\u001b[0m\u001b[0;34m\u001b[0m\u001b[0m\n\u001b[0m\u001b[1;32m      3\u001b[0m \u001b[0mplt\u001b[0m\u001b[0;34m.\u001b[0m\u001b[0mplot\u001b[0m\u001b[0;34m(\u001b[0m \u001b[0mb1_l\u001b[0m\u001b[0;34m,\u001b[0m \u001b[0mloss\u001b[0m\u001b[0;34m)\u001b[0m\u001b[0;34m\u001b[0m\u001b[0m\n\u001b[1;32m      4\u001b[0m \u001b[0;31m# print(b1_l)\u001b[0m\u001b[0;34m\u001b[0m\u001b[0;34m\u001b[0m\u001b[0m\n",
      "\u001b[0;31mNameError\u001b[0m: name 'b2_l' is not defined"
     ]
    }
   ],
   "source": [
    "# plt.fi\n",
    "\n",
    "# print(b1_l)"
   ]
  },
  {
   "cell_type": "code",
   "execution_count": 16,
   "metadata": {},
   "outputs": [],
   "source": [
    "from sklearn.linear_model import LogisticRegression"
   ]
  },
  {
   "cell_type": "code",
   "execution_count": 17,
   "metadata": {},
   "outputs": [],
   "source": [
    "lg = LogisticRegression()\n",
    "lg.fit(df[['X1', 'X2']], y)\n",
    "pred = lg.predict(df[['X1', 'X2']])"
   ]
  },
  {
   "cell_type": "code",
   "execution_count": 18,
   "metadata": {},
   "outputs": [
    {
     "data": {
      "text/plain": [
       "array([[ 0.80500339, -1.12242746]])"
      ]
     },
     "execution_count": 18,
     "metadata": {},
     "output_type": "execute_result"
    }
   ],
   "source": [
    "lg.coef_"
   ]
  },
  {
   "cell_type": "code",
   "execution_count": 19,
   "metadata": {},
   "outputs": [
    {
     "data": {
      "text/plain": [
       "array([-0.43104652])"
      ]
     },
     "execution_count": 19,
     "metadata": {},
     "output_type": "execute_result"
    }
   ],
   "source": [
    "lg.intercept_"
   ]
  },
  {
   "cell_type": "markdown",
   "metadata": {},
   "source": [
    "# Q2"
   ]
  },
  {
   "cell_type": "code",
   "execution_count": 40,
   "metadata": {
    "scrolled": true
   },
   "outputs": [
    {
     "name": "stdout",
     "output_type": "stream",
     "text": [
      "Epoch: 1, b0: -0.0006578714963920321, b1: 0.11017965930835644, b2: 0.0\n",
      "Epoch: 11, b0: -0.1711572510872068, b1: 0.24637354153412763, b2: 0.0\n",
      "Epoch: 21, b0: -0.35115881125967435, b1: 0.27666451230977884, b2: 0.0\n",
      "Epoch: 31, b0: -0.5223649818686918, b1: 0.30545376916361633, b2: 0.0\n",
      "Epoch: 41, b0: -0.6851983449036779, b1: 0.33313275270535697, b2: 0.0\n",
      "Epoch: 51, b0: -0.8401583872088795, b1: 0.35974405662923076, b2: 0.0\n",
      "Epoch: 61, b0: -0.9877422736560734, b1: 0.3853331649660371, b2: 0.0\n",
      "Epoch: 71, b0: -1.1284342709987307, b1: 0.4099482286994641, b2: 0.0\n",
      "Epoch: 81, b0: -1.2626986752266693, b1: 0.4336385287977205, b2: 0.0\n",
      "Epoch: 91, b0: -1.3909753328105465, b1: 0.4564532821847794, b2: 0.0\n",
      "Epoch: 101, b0: -1.5136771692342643, b1: 0.4784407580946956, b2: 0.0\n",
      "Epoch: 111, b0: -1.6311892068255294, b1: 0.49964765423842494, b2: 0.0\n",
      "Epoch: 121, b0: -1.7438686422799528, b1: 0.5201186818990047, b2: 0.0\n",
      "Epoch: 131, b0: -1.8520456441411288, b1: 0.5398963135666126, b2: 0.0\n",
      "Epoch: 141, b0: -1.9560246114443864, b1: 0.5590206533491267, b2: 0.0\n"
     ]
    },
    {
     "data": {
      "image/png": "[encoded data removed]",
      "text/plain": [
       "<Figure size 432x288 with 1 Axes>"
      ]
     },
     "metadata": {
      "needs_background": "light"
     },
     "output_type": "display_data"
    }
   ],
   "source": [
    "x3 = np.zeros(10)\n",
    "b0, b1, b2 = gd(x1, x3, y, 0.01, 150)"
   ]
  },
  {
   "cell_type": "code",
   "execution_count": 52,
   "metadata": {},
   "outputs": [],
   "source": [
    "pred = [np.round(sigmoid(b0+b1*x1 + b2*x2)) for x1, x2 in zip(x1,x3)]"
   ]
  },
  {
   "cell_type": "code",
   "execution_count": 70,
   "metadata": {},
   "outputs": [
    {
     "name": "stdout",
     "output_type": "stream",
     "text": [
      "[0. 0. 0. 0. 0. 1. 1. 1. 1. 1.]\n"
     ]
    }
   ],
   "source": [
    "# print(confusion_matrix(y, pred))\n",
    "\n",
    "pred = np.array(pred)\n",
    "y = np.array(y)\n",
    "print(pred)"
   ]
  },
  {
   "cell_type": "code",
   "execution_count": 71,
   "metadata": {},
   "outputs": [
    {
     "name": "stdout",
     "output_type": "stream",
     "text": [
      "nan\n",
      "nan\n",
      "nan\n",
      "nan\n",
      "nan\n",
      "nan\n",
      "nan\n",
      "nan\n",
      "nan\n",
      "nan\n"
     ]
    },
    {
     "name": "stderr",
     "output_type": "stream",
     "text": [
      "/home/student/anaconda3/lib/python3.7/site-packages/ipykernel_launcher.py:2: RuntimeWarning: divide by zero encountered in log\n",
      "  \n",
      "/home/student/anaconda3/lib/python3.7/site-packages/ipykernel_launcher.py:2: RuntimeWarning: invalid value encountered in multiply\n",
      "  \n"
     ]
    }
   ],
   "source": [
    "for i in range(10):\n",
    "    l = l + (y[i] * np.log(pred[i])) + ((1 - y[i]) * np.log(1 - pred[i]))\n",
    "    print(l)\n",
    "l = - l/10"
   ]
  },
  {
   "cell_type": "code",
   "execution_count": 72,
   "metadata": {},
   "outputs": [
    {
     "name": "stderr",
     "output_type": "stream",
     "text": [
      "/home/student/anaconda3/lib/python3.7/site-packages/ipykernel_launcher.py:1: RuntimeWarning: divide by zero encountered in log\n",
      "  \"\"\"Entry point for launching an IPython kernel.\n",
      "/home/student/anaconda3/lib/python3.7/site-packages/ipykernel_launcher.py:1: RuntimeWarning: invalid value encountered in multiply\n",
      "  \"\"\"Entry point for launching an IPython kernel.\n"
     ]
    },
    {
     "ename": "TypeError",
     "evalue": "'int' object is not callable",
     "output_type": "error",
     "traceback": [
      "\u001b[0;31m---------------------------------------------------------------------------\u001b[0m",
      "\u001b[0;31mTypeError\u001b[0m                                 Traceback (most recent call last)",
      "\u001b[0;32m<ipython-input-72-a4f6678a50ea>\u001b[0m in \u001b[0;36m<module>\u001b[0;34m()\u001b[0m\n\u001b[0;32m----> 1\u001b[0;31m \u001b[0ml\u001b[0m \u001b[0;34m=\u001b[0m \u001b[0;36m1\u001b[0m\u001b[0;34m/\u001b[0m\u001b[0;36m10\u001b[0m\u001b[0;34m(\u001b[0m\u001b[0mnp\u001b[0m\u001b[0;34m.\u001b[0m\u001b[0mmultiply\u001b[0m\u001b[0;34m(\u001b[0m\u001b[0my\u001b[0m\u001b[0;34m,\u001b[0m \u001b[0mnp\u001b[0m\u001b[0;34m.\u001b[0m\u001b[0mlog\u001b[0m\u001b[0;34m(\u001b[0m\u001b[0mpred\u001b[0m\u001b[0;34m)\u001b[0m\u001b[0;34m)\u001b[0m \u001b[0;34m+\u001b[0m\u001b[0mnp\u001b[0m\u001b[0;34m.\u001b[0m\u001b[0mmultiply\u001b[0m\u001b[0;34m(\u001b[0m\u001b[0;34m(\u001b[0m\u001b[0;36m1\u001b[0m \u001b[0;34m-\u001b[0m \u001b[0my\u001b[0m\u001b[0;34m)\u001b[0m\u001b[0;34m,\u001b[0m \u001b[0mnp\u001b[0m\u001b[0;34m.\u001b[0m\u001b[0mlog\u001b[0m\u001b[0;34m(\u001b[0m\u001b[0;36m1\u001b[0m \u001b[0;34m-\u001b[0m \u001b[0mpred\u001b[0m\u001b[0;34m)\u001b[0m\u001b[0;34m)\u001b[0m\u001b[0;34m)\u001b[0m\u001b[0;34m\u001b[0m\u001b[0m\n\u001b[0m",
      "\u001b[0;31mTypeError\u001b[0m: 'int' object is not callable"
     ]
    }
   ],
   "source": [
    "l = 1/10(np.multiply(y, np.log(pred)) +np.multiply((1 - y), np.log(1 - pred)))"
   ]
  },
  {
   "cell_type": "code",
   "execution_count": null,
   "metadata": {},
   "outputs": [],
   "source": []
  },
  {
   "cell_type": "code",
   "execution_count": null,
   "metadata": {},
   "outputs": [],
   "source": []
  }
 ],
 "metadata": {
  "kernelspec": {
   "display_name": "Python 3",
   "language": "python",
   "name": "python3"
  },
  "language_info": {
   "codemirror_mode": {
    "name": "ipython",
    "version": 3
   },
   "file_extension": ".py",
   "mimetype": "text/x-python",
   "name": "python",
   "nbconvert_exporter": "python",
   "pygments_lexer": "ipython3",
   "version": "3.7.0"
  }
 },
 "nbformat": 4,
 "nbformat_minor": 2
}
