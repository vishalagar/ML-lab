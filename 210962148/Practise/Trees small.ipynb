{
 "cells": [
  {
   "cell_type": "code",
   "execution_count": 56,
   "id": "635bf911",
   "metadata": {},
   "outputs": [],
   "source": [
    "import numpy as np\n",
    "def find_entropy(df):\n",
    "  Class = df.keys()[-1] #distinct values\n",
    "  #print(Class)\n",
    "  values = df[Class].unique() #makes tuple\n",
    "  #print(values)\n",
    "  entropy = 0\n",
    "  for value in values:\n",
    "    prob = len(df[Class][df[Class]==value])/len(df[Class])\n",
    "    entropy += -prob * np.log2(prob)\n",
    "  return np.float64(entropy)\n",
    "     "
   ]
  },
  {
   "cell_type": "code",
   "execution_count": 57,
   "id": "c0685ff1",
   "metadata": {},
   "outputs": [],
   "source": [
    "# Find entropy attribute\n",
    "def find_entropy_attribute(df, attribute):\n",
    "  Class = df.keys()[-1]\n",
    "  target_values = df[Class].unique()\n",
    "  attribute_values = df[attribute].unique()\n",
    "  avg_entropy = 0\n",
    "  for value in attribute_values:\n",
    "    entropy = 0\n",
    "    for value1 in target_values:\n",
    "      num = len(df[attribute][df[attribute] == value][df[Class] == value1])\n",
    "      den = len(df[attribute][df[attribute] == value])\n",
    "      prob = num/den\n",
    "      entropy += -prob * np.log2(prob + 0.000001)\n",
    "    avg_entropy += (den/len(df))*entropy\n",
    "  return np.float64(avg_entropy)\n",
    "     "
   ]
  },
  {
   "cell_type": "code",
   "execution_count": 58,
   "id": "a6b7a329",
   "metadata": {},
   "outputs": [],
   "source": [
    "# Find Winner\n",
    "def find_winner(df):\n",
    "  IG = []\n",
    "  for key in df.keys()[:-1]:\n",
    "    IG.append(find_entropy(df) - find_entropy_attribute(df, key))\n",
    "  return df.keys()[:-1][np.argmax(IG)]\n",
    "     "
   ]
  },
  {
   "cell_type": "code",
   "execution_count": 59,
   "id": "62764f51",
   "metadata": {},
   "outputs": [],
   "source": [
    "def get_subtable(df, attribute, value):\n",
    "  return df[df[attribute] == value].reset_index(drop = True)"
   ]
  },
  {
   "cell_type": "code",
   "execution_count": 60,
   "id": "fb7991e7",
   "metadata": {},
   "outputs": [],
   "source": [
    "def buildtree(df, tree = None):\n",
    "  node = find_winner(df)\n",
    "  attvalue = np.unique(df[node])\n",
    "  Class = df.keys()[-1]\n",
    "  if tree is None:\n",
    "    tree = {}\n",
    "    tree[node] = {}\n",
    "  for value in attvalue:\n",
    "    subtable = get_subtable(df,node,value)\n",
    "    Clvalue, counts = np.unique(subtable[Class], return_counts = True)\n",
    "    if len(counts) == 1:\n",
    "      tree[node][value] = Clvalue[0]\n",
    "    else:\n",
    "      tree[node][value] = buildtree(subtable)\n",
    "  return tree\n",
    "     "
   ]
  },
  {
   "cell_type": "code",
   "execution_count": 61,
   "id": "7a7ebb90",
   "metadata": {},
   "outputs": [],
   "source": [
    "import pandas as pd\n",
    "df = pd.read_csv('data_dt.csv')\n",
    "df = df.drop(\"Day\",axis=1)"
   ]
  },
  {
   "cell_type": "code",
   "execution_count": 62,
   "id": "d0030743",
   "metadata": {},
   "outputs": [
    {
     "name": "stdout",
     "output_type": "stream",
     "text": [
      "{'Outlook': {'Overcast': 'Yes', 'Rain': {'Wind ': {'Strong': 'No', 'Weak': 'Yes'}}, 'Sunny': {'Humidity': {'High': 'No', 'Medium': 'Yes'}}}}\n"
     ]
    }
   ],
   "source": [
    "tree = buildtree(df)\n",
    "print(tree)"
   ]
  },
  {
   "cell_type": "code",
   "execution_count": null,
   "id": "5e4f14fb",
   "metadata": {},
   "outputs": [],
   "source": []
  }
 ],
 "metadata": {
  "kernelspec": {
   "display_name": "Python 3 (ipykernel)",
   "language": "python",
   "name": "python3"
  },
  "language_info": {
   "codemirror_mode": {
    "name": "ipython",
    "version": 3
   },
   "file_extension": ".py",
   "mimetype": "text/x-python",
   "name": "python",
   "nbconvert_exporter": "python",
   "pygments_lexer": "ipython3",
   "version": "3.11.4"
  }
 },
 "nbformat": 4,
 "nbformat_minor": 5
}
