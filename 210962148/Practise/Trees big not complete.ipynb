{
 "cells": [
  {
   "cell_type": "code",
   "execution_count": 15,
   "id": "0c6f4a06",
   "metadata": {},
   "outputs": [],
   "source": [
    "import numpy as np\n",
    "import pandas as pd\n",
    "from sklearn.datasets import load_iris\n",
    "from math import log2"
   ]
  },
  {
   "cell_type": "code",
   "execution_count": 5,
   "id": "d18d4baa",
   "metadata": {},
   "outputs": [],
   "source": [
    "iris = load_iris()"
   ]
  },
  {
   "cell_type": "code",
   "execution_count": 9,
   "id": "48c75dbe",
   "metadata": {},
   "outputs": [],
   "source": [
    "data = pd.DataFrame(data= np.c_[iris['data'], iris['target']],\n",
    "                     columns= iris['feature_names'] + ['target'])"
   ]
  },
  {
   "cell_type": "code",
   "execution_count": 13,
   "id": "930bf7a6",
   "metadata": {},
   "outputs": [],
   "source": [
    "data = pd.read_csv('data_dt.csv')\n",
    "data = data.drop(\"Day\", axis = 1)"
   ]
  },
  {
   "cell_type": "code",
   "execution_count": null,
   "id": "edb937d2",
   "metadata": {},
   "outputs": [],
   "source": [
    "def entropy(target_column):\n",
    "    elements, counts = np.unique(target_column, return_count = True)\n",
    "    entropy = 0\n",
    "    for count in counts:\n",
    "        probablity = count / len(target_column)\n",
    "        entropy -= probablity * math.log2(probablity)\n",
    "    return entropy\n",
    "\n",
    "\n",
    "def information_gain(data, feature, target):\n",
    "    \n",
    "    total_entropy = entropy(data[target])\n",
    "    values, counts = np.unique(data[feature], return_count = True)\n",
    "    weighted_entropy = 0\n",
    "    \n",
    "    for value, count in zip(values, count):\n",
    "        subset = data[data[feature] == value]\n",
    "        subset_entropy = entropy(subset[target])\n",
    "        weighted_entropy += (count/len(data)) * subset_entropy\n",
    "    return total_entropy - weighted_entropy\n",
    "\n",
    "\n",
    "def best_split(data, features, target):\n",
    "    information_gains = []\n",
    "    for feature in features:\n",
    "        information_gains.append(information_gain(data, feature, target))\n",
    "    return features[np.argmax(information_gains)]\n",
    "\n",
    "\n",
    "def id3(data, orignal_data, features, target_attribute_name, parent_node_class = None):\n",
    "    if len(np.unique(data[target_attribute_name])) <= 1:\n",
    "    \n",
    "    "
   ]
  },
  {
   "cell_type": "code",
   "execution_count": null,
   "id": "2bdeeede",
   "metadata": {},
   "outputs": [],
   "source": [
    "\n",
    "        "
   ]
  },
  {
   "cell_type": "code",
   "execution_count": null,
   "id": "23606b1d",
   "metadata": {},
   "outputs": [],
   "source": []
  },
  {
   "cell_type": "code",
   "execution_count": null,
   "id": "e68481d6",
   "metadata": {},
   "outputs": [],
   "source": []
  },
  {
   "cell_type": "code",
   "execution_count": null,
   "id": "af76a639",
   "metadata": {},
   "outputs": [],
   "source": []
  },
  {
   "cell_type": "code",
   "execution_count": null,
   "id": "bcadd28e",
   "metadata": {},
   "outputs": [],
   "source": []
  }
 ],
 "metadata": {
  "kernelspec": {
   "display_name": "Python 3 (ipykernel)",
   "language": "python",
   "name": "python3"
  },
  "language_info": {
   "codemirror_mode": {
    "name": "ipython",
    "version": 3
   },
   "file_extension": ".py",
   "mimetype": "text/x-python",
   "name": "python",
   "nbconvert_exporter": "python",
   "pygments_lexer": "ipython3",
   "version": "3.11.4"
  }
 },
 "nbformat": 4,
 "nbformat_minor": 5
}
