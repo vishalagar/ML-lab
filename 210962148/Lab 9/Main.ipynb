{
 "cells": [
  {
   "cell_type": "code",
   "execution_count": 84,
   "metadata": {},
   "outputs": [],
   "source": [
    "import numpy as np\n",
    "import pandas as pd\n",
    "import matplotlib.pyplot as plt"
   ]
  },
  {
   "cell_type": "code",
   "execution_count": 85,
   "metadata": {},
   "outputs": [],
   "source": [
    "df = pd.read_csv(\"data.csv\")"
   ]
  },
  {
   "cell_type": "code",
   "execution_count": 86,
   "metadata": {},
   "outputs": [],
   "source": [
    "# df.replace(['Good', 'Bad'], [1,0])"
   ]
  },
  {
   "cell_type": "code",
   "execution_count": null,
   "metadata": {},
   "outputs": [],
   "source": []
  },
  {
   "cell_type": "code",
   "execution_count": null,
   "metadata": {},
   "outputs": [],
   "source": []
  },
  {
   "cell_type": "code",
   "execution_count": 87,
   "metadata": {},
   "outputs": [
    {
     "data": {
      "text/plain": [
       "<matplotlib.collections.PathCollection at 0x7fc5e5a55ac8>"
      ]
     },
     "execution_count": 87,
     "metadata": {},
     "output_type": "execute_result"
    },
    {
     "data": {
      "image/png": "[encoded data removed]",
      "text/plain": [
       "<Figure size 432x288 with 1 Axes>"
      ]
     },
     "metadata": {
      "needs_background": "light"
     },
     "output_type": "display_data"
    }
   ],
   "source": [
    "good  = df[df['Y'] == 'Good']\n",
    "bad  = df[df['Y'] == 'Bad']\n",
    "\n",
    "plt.scatter(good['X1'],good['X2'], color = 'green', marker ='+')\n",
    "plt.scatter(bad['X1'],bad['X2'], color = 'red', marker ='x')\n"
   ]
  },
  {
   "cell_type": "code",
   "execution_count": 88,
   "metadata": {},
   "outputs": [],
   "source": [
    "x1 = df['X1']\n",
    "x2 = df['X2']"
   ]
  },
  {
   "cell_type": "code",
   "execution_count": 149,
   "metadata": {},
   "outputs": [],
   "source": [
    "def euc(x1,x2,a,b):\n",
    "    dist = np.sqrt(np.square(x1-a) + np.square(x2-b))\n",
    "    return dist\n",
    "def man(x1,x2,a,b):\n",
    "    dist = np.abs(x1-a) + np.abs(x2-b)\n",
    "    return dist\n",
    "def me"
   ]
  },
  {
   "cell_type": "code",
   "execution_count": 150,
   "metadata": {},
   "outputs": [],
   "source": [
    "def pred(l,k):\n",
    "    gc = 0\n",
    "    bc = 0\n",
    "    for i in range(k):\n",
    "        if(l[i][1] == 'Good'):\n",
    "#             print(l[i][1])\n",
    "            gc+=1\n",
    "        else:\n",
    "            bc+=1\n",
    "    if (gc > bc):\n",
    "        print(\"Good\")\n",
    "    elif(bc>gc):\n",
    "        print(\"BAD\")\n",
    "    else:\n",
    "        print(\"Can't be determined\")"
   ]
  },
  {
   "cell_type": "code",
   "execution_count": 167,
   "metadata": {},
   "outputs": [
    {
     "name": "stdout",
     "output_type": "stream",
     "text": [
      "Using EUC when K = 2\n",
      "Can't be determined\n",
      "Using EUC when K = 3\n",
      "BAD\n",
      "Using EUC when K = 4\n",
      "Can't be determined\n",
      "Using EUC when K = 5\n",
      "Good\n"
     ]
    }
   ],
   "source": [
    "k = [2,3,4,5]\n",
    "start = [3,7]\n",
    "d = []\n",
    "for j in k:\n",
    "    d.clear()\n",
    "    for i in range(10):\n",
    "        a = euc(x1[i],x2[i],start[0],start[1])\n",
    "        d.append((a,df['Y'][i]))\n",
    "        \n",
    "    d.sort()\n",
    "    print(f\"Using EUC when K = {j}\")\n",
    "    pred(d,j)\n",
    "    \n",
    "#     for i in range(10)"
   ]
  },
  {
   "cell_type": "code",
   "execution_count": 166,
   "metadata": {},
   "outputs": [
    {
     "data": {
      "text/plain": [
       "[(36.22154055254967, 'Good'),\n",
       " (37.33630940518894, 'Bad'),\n",
       " (38.2099463490856, 'Bad'),\n",
       " (38.3275357934736, 'Bad'),\n",
       " (39.01281840626232, 'Bad'),\n",
       " (40.0, 'Good'),\n",
       " (40.01249804748511, 'Bad'),\n",
       " (41.0, 'Good'),\n",
       " (41.048751503547585, 'Good'),\n",
       " (41.19465984809196, 'Bad')]"
      ]
     },
     "execution_count": 166,
     "metadata": {},
     "output_type": "execute_result"
    }
   ],
   "source": [
    "d"
   ]
  },
  {
   "cell_type": "code",
   "execution_count": null,
   "metadata": {},
   "outputs": [],
   "source": []
  }
 ],
 "metadata": {
  "kernelspec": {
   "display_name": "Python 3",
   "language": "python",
   "name": "python3"
  },
  "language_info": {
   "codemirror_mode": {
    "name": "ipython",
    "version": 3
   },
   "file_extension": ".py",
   "mimetype": "text/x-python",
   "name": "python",
   "nbconvert_exporter": "python",
   "pygments_lexer": "ipython3",
   "version": "3.7.0"
  }
 },
 "nbformat": 4,
 "nbformat_minor": 2
}
