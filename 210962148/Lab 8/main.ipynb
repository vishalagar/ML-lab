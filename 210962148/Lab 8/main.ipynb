{
 "cells": [
  {
   "cell_type": "markdown",
   "metadata": {},
   "source": [
    "# Q1 a"
   ]
  },
  {
   "cell_type": "code",
   "execution_count": 1,
   "metadata": {},
   "outputs": [],
   "source": [
    "import numpy as np\n",
    "import pandas as pd\n",
    "import matplotlib.pyplot as plt"
   ]
  },
  {
   "cell_type": "code",
   "execution_count": 2,
   "metadata": {},
   "outputs": [
    {
     "name": "stdout",
     "output_type": "stream",
     "text": [
      "0.692\n"
     ]
    }
   ],
   "source": [
    "pH = 0.6\n",
    "pnH = 0.4\n",
    "pAh = 0.3\n",
    "pA_nH= 0.2\n",
    "\n",
    "ans = (pAh * pH) / (pAh * pH + pA_nH * pnH)\n",
    "print(round(ans, 3))"
   ]
  },
  {
   "cell_type": "code",
   "execution_count": 46,
   "metadata": {},
   "outputs": [
    {
     "name": "stdout",
     "output_type": "stream",
     "text": [
      "0.333\n"
     ]
    }
   ],
   "source": [
    "pP = .99\n",
    "pNp = .01\n",
    "pCi = .99\n",
    "pWi = 0.02\n",
    "\n",
    "ans = (pNp * pP) / (pNp * pP + pCi * pWi)\n",
    "print(round(ans, 3))"
   ]
  },
  {
   "cell_type": "markdown",
   "metadata": {},
   "source": [
    "# Q2"
   ]
  },
  {
   "cell_type": "code",
   "execution_count": 6,
   "metadata": {},
   "outputs": [],
   "source": [
    "df = pd.read_csv(\"data.csv\")"
   ]
  },
  {
   "cell_type": "code",
   "execution_count": 49,
   "metadata": {},
   "outputs": [
    {
     "name": "stdout",
     "output_type": "stream",
     "text": [
      "Play\n"
     ]
    }
   ],
   "source": [
    "total = len(df[df['Outlook'] == 'Sunny'])\n",
    "pY = len(df[(df['Outlook'] == 'Sunny') & (df['Play'] == 'Yes')]) / total\n",
    "pN = len(df[(df['Outlook'] == 'Sunny') & (df['Play'] == 'No')]) / total\n",
    "\n",
    "if pY > pN :\n",
    "    print(\"Play\")\n",
    "else:\n",
    "    print(\"No Play\")"
   ]
  },
  {
   "cell_type": "code",
   "execution_count": null,
   "metadata": {},
   "outputs": [],
   "source": []
  }
 ],
 "metadata": {
  "kernelspec": {
   "display_name": "Python 3",
   "language": "python",
   "name": "python3"
  },
  "language_info": {
   "codemirror_mode": {
    "name": "ipython",
    "version": 3
   },
   "file_extension": ".py",
   "mimetype": "text/x-python",
   "name": "python",
   "nbconvert_exporter": "python",
   "pygments_lexer": "ipython3",
   "version": "3.7.0"
  }
 },
 "nbformat": 4,
 "nbformat_minor": 2
}
