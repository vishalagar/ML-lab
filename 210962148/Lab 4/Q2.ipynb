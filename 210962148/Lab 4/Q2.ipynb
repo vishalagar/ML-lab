{
 "cells": [
  {
   "cell_type": "code",
   "execution_count": 142,
   "metadata": {},
   "outputs": [],
   "source": [
    "import pandas as pd\n",
    "import numpy as np\n",
    "import matplotlib.pyplot as plt\n",
    "import seaborn as sns"
   ]
  },
  {
   "cell_type": "code",
   "execution_count": 143,
   "metadata": {},
   "outputs": [],
   "source": [
    "df = pd.read_csv('correct.csv')"
   ]
  },
  {
   "cell_type": "code",
   "execution_count": 144,
   "metadata": {},
   "outputs": [
    {
     "name": "stdout",
     "output_type": "stream",
     "text": [
      "<class 'pandas.core.frame.DataFrame'>\n",
      "RangeIndex: 58 entries, 0 to 57\n",
      "Data columns (total 3 columns):\n",
      "Year            58 non-null int64\n",
      "Gold_price      58 non-null int64\n",
      "Silver_Price    42 non-null float64\n",
      "dtypes: float64(1), int64(2)\n",
      "memory usage: 1.4 KB\n"
     ]
    }
   ],
   "source": [
    "df.info()\n",
    "df.dropna(inplace=True)"
   ]
  },
  {
   "cell_type": "code",
   "execution_count": 145,
   "metadata": {},
   "outputs": [],
   "source": [
    "X1 = df['Year']\n",
    "X2 = df['Gold_price']\n",
    "y = df['Silver_Price']"
   ]
  },
  {
   "cell_type": "code",
   "execution_count": 146,
   "metadata": {},
   "outputs": [],
   "source": [
    "# X1 = np.array(X1)\n",
    "# X2 = np.array(X2)\n",
    "# y = np.array(y)\n",
    "n = len(df)"
   ]
  },
  {
   "cell_type": "code",
   "execution_count": 147,
   "metadata": {},
   "outputs": [
    {
     "name": "stdout",
     "output_type": "stream",
     "text": [
      " 6170.5 \n",
      " 8977801148.571428 \n",
      " 8569255.5 \n",
      " 11464211292.285715 \n",
      " 6467312.0\n"
     ]
    }
   ],
   "source": [
    "X12 = np.sum(X1**2) - (np.sum(X1)**2)/n\n",
    "X22 = np.sum(X2**2) - (np.sum(X2)**2)/n\n",
    "X1Y = np.sum(X1*y) - (np.sum(X1) * np.sum(y))/n\n",
    "X2Y = np.sum(X2*y) - (np.sum(X2) * np.sum(y))/n\n",
    "X1X2= np.sum(X1*X2) - (np.sum(X1)*np.sum(X2))/n\n",
    "\n",
    "\n",
    "print(\"\",X12,\"\\n\",X22,\"\\n\",X1Y,\"\\n\",X2Y,\"\\n\", X1X2)"
   ]
  },
  {
   "cell_type": "code",
   "execution_count": 148,
   "metadata": {},
   "outputs": [],
   "source": [
    "B1 = (((X22) * (X1Y)) - ((X1X2) * (X2Y)))/((X12 * X22) - (X1X2 **2))\n",
    "B2 = (((X12) * (X2Y)) - ((X1X2) * (X1Y)))/((X12 * X22) - (X1X2 **2))\n",
    "B0 = df['Silver_Price'].mean() - B1*df['Year'].mean() - B2*df['Gold_price'].mean()\n"
   ]
  },
  {
   "cell_type": "code",
   "execution_count": 149,
   "metadata": {},
   "outputs": [
    {
     "name": "stdout",
     "output_type": "stream",
     "text": [
      "205.61188432402818\n"
     ]
    }
   ],
   "source": [
    "print(B1)"
   ]
  },
  {
   "cell_type": "code",
   "execution_count": 150,
   "metadata": {},
   "outputs": [
    {
     "name": "stdout",
     "output_type": "stream",
     "text": [
      "1.1288348803612045\n"
     ]
    }
   ],
   "source": [
    "print(B2)"
   ]
  },
  {
   "cell_type": "code",
   "execution_count": 151,
   "metadata": {},
   "outputs": [
    {
     "name": "stdout",
     "output_type": "stream",
     "text": [
      "-406636.42608834914\n"
     ]
    }
   ],
   "source": [
    "print(B0)"
   ]
  },
  {
   "cell_type": "code",
   "execution_count": 152,
   "metadata": {},
   "outputs": [],
   "source": [
    "df['predicted_Silver_price'] = B0 + (B1 * df['Year']) + (B2 * df['Gold_price'])\n",
    "df['error'] = (df['predicted_Silver_price'] - df['Silver_Price']).abs()"
   ]
  },
  {
   "cell_type": "code",
   "execution_count": 153,
   "metadata": {},
   "outputs": [],
   "source": [
    "mse = (1 / n) * ((df['predicted_Silver_price'] - df['Silver_Price']) ** 2).sum()\n",
    "rmse = np.sqrt(mse)\n"
   ]
  },
  {
   "cell_type": "code",
   "execution_count": 154,
   "metadata": {},
   "outputs": [
    {
     "name": "stdout",
     "output_type": "stream",
     "text": [
      "Coefficients:\n",
      "B0: -406636.42608834914\n",
      "B1: 205.61188432402818\n",
      "B2: 1.1288348803612045\n",
      "MSE:  27970705.328672204\n",
      "RMSE: 5288.7338114781505\n"
     ]
    }
   ],
   "source": [
    "print(\"Coefficients:\")\n",
    "print(\"B0:\", B0)\n",
    "print(\"B1:\", B1)\n",
    "print(\"B2:\", B2)\n",
    "print(\"MSE: \",mse)\n",
    "print(\"RMSE:\", rmse)\n"
   ]
  },
  {
   "cell_type": "code",
   "execution_count": 155,
   "metadata": {},
   "outputs": [
    {
     "data": {
      "image/png": "[encoded data removed]",
      "text/plain": [
       "<Figure size 432x288 with 1 Axes>"
      ]
     },
     "metadata": {
      "needs_background": "light"
     },
     "output_type": "display_data"
    }
   ],
   "source": [
    "# print(\"Silver price for 2024 = \",predict_silver(2024, predict_gold(2024)/10))\n",
    "\n",
    "plt.figure()\n",
    "plt.plot(df['Year'], df['Silver_Price'] , label = \"Silver\")\n",
    "plt.plot(df['Year'], df['predicted_Silver_price'], label = \"Prediction\")\n",
    "plt.legend()\n",
    "plt.show()"
   ]
  },
  {
   "cell_type": "code",
   "execution_count": 169,
   "metadata": {},
   "outputs": [],
   "source": [
    "from sklearn.linear_model import LinearRegression\n",
    "from sklearn.linear_model import LinearRegression\n",
    "from sklearn.metrics import mean_squared_error"
   ]
  },
  {
   "cell_type": "code",
   "execution_count": 170,
   "metadata": {},
   "outputs": [],
   "source": [
    "lr = LinearRegression()"
   ]
  },
  {
   "cell_type": "code",
   "execution_count": 171,
   "metadata": {},
   "outputs": [],
   "source": [
    "X = df[['Year', 'Gold_price']]\n",
    "y = df['Silver_Price']"
   ]
  },
  {
   "cell_type": "code",
   "execution_count": 172,
   "metadata": {},
   "outputs": [
    {
     "data": {
      "text/plain": [
       "LinearRegression(copy_X=True, fit_intercept=True, n_jobs=1, normalize=False)"
      ]
     },
     "execution_count": 172,
     "metadata": {},
     "output_type": "execute_result"
    }
   ],
   "source": [
    "lr.fit(X,y)"
   ]
  },
  {
   "cell_type": "code",
   "execution_count": 173,
   "metadata": {},
   "outputs": [],
   "source": [
    "pred = lr.predict(X)"
   ]
  },
  {
   "cell_type": "code",
   "execution_count": 174,
   "metadata": {},
   "outputs": [
    {
     "name": "stdout",
     "output_type": "stream",
     "text": [
      "B0_skl: -406636.4260883493\n",
      "B1_skl: [205.61188432   1.12883488]\n",
      "MSE_skl: 27970705.328672215\n",
      "RMSE_skl: 5288.733811478151\n"
     ]
    }
   ],
   "source": [
    "mse_skl = mean_squared_error(y, pred)\n",
    "rmse_skl = mse_skl**0.5\n",
    "B0_skl = lr.intercept_\n",
    "B1_B2 = lr.coef_\n",
    "\n",
    "print(f'B0_skl: {B0_skl}')\n",
    "print(f'B1_skl: {B1_B2}')\n",
    "print(f'MSE_skl: {mse_skl}')\n",
    "print(f'RMSE_skl: {rmse_skl}')\n",
    "\n"
   ]
  },
  {
   "cell_type": "code",
   "execution_count": null,
   "metadata": {},
   "outputs": [],
   "source": []
  },
  {
   "cell_type": "code",
   "execution_count": null,
   "metadata": {},
   "outputs": [],
   "source": []
  }
 ],
 "metadata": {
  "kernelspec": {
   "display_name": "Python 3",
   "language": "python",
   "name": "python3"
  },
  "language_info": {
   "codemirror_mode": {
    "name": "ipython",
    "version": 3
   },
   "file_extension": ".py",
   "mimetype": "text/x-python",
   "name": "python",
   "nbconvert_exporter": "python",
   "pygments_lexer": "ipython3",
   "version": "3.7.0"
  }
 },
 "nbformat": 4,
 "nbformat_minor": 2
}
