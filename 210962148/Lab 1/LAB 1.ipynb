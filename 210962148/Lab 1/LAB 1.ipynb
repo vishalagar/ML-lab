{
 "cells": [
  {
   "cell_type": "code",
   "execution_count": 1,
   "metadata": {},
   "outputs": [],
   "source": [
    "import numpy as np"
   ]
  },
  {
   "cell_type": "markdown",
   "metadata": {},
   "source": [
    "# Q1"
   ]
  },
  {
   "cell_type": "code",
   "execution_count": 54,
   "metadata": {},
   "outputs": [
    {
     "name": "stdout",
     "output_type": "stream",
     "text": [
      "[1 2 3 4 5 6 7 8 9]\n"
     ]
    },
    {
     "data": {
      "text/plain": [
       "array([[1, 2, 3],\n",
       "       [4, 5, 6],\n",
       "       [7, 8, 9]])"
      ]
     },
     "execution_count": 54,
     "metadata": {},
     "output_type": "execute_result"
    }
   ],
   "source": [
    "a = np.array([1,2,3,4,5,6,7,8,9])\n",
    "print(a)\n",
    "a.reshape(3,3)"
   ]
  },
  {
   "cell_type": "markdown",
   "metadata": {},
   "source": [
    "# Q2"
   ]
  },
  {
   "cell_type": "code",
   "execution_count": 55,
   "metadata": {},
   "outputs": [
    {
     "name": "stdout",
     "output_type": "stream",
     "text": [
      "[0 1 2 3 4 5 6 7 8 9]\n",
      "[ 0 -1  2 -1  4 -1  6 -1  8 -1]\n"
     ]
    }
   ],
   "source": [
    "a = np.arange(10)\n",
    "print(a)\n",
    "\n",
    "def negative(a):\n",
    "    for i in a:\n",
    "        if i%2 != 0:\n",
    "            a[i] = -1\n",
    "negative(a)\n",
    "print(a)"
   ]
  },
  {
   "cell_type": "code",
   "execution_count": 56,
   "metadata": {},
   "outputs": [
    {
     "name": "stdout",
     "output_type": "stream",
     "text": [
      "[ 0 -1  2 -1  4 -1  6 -1  8 -1]\n"
     ]
    }
   ],
   "source": [
    "a = np.arange(10)\n",
    "a[a%2 != 0] = -1\n",
    "print(a)"
   ]
  },
  {
   "cell_type": "markdown",
   "metadata": {},
   "source": [
    "# Q3     "
   ]
  },
  {
   "cell_type": "code",
   "execution_count": 57,
   "metadata": {},
   "outputs": [
    {
     "name": "stdout",
     "output_type": "stream",
     "text": [
      "[1, 2, 4, 5, 6, 7, 8, 9]\n",
      "[0]\n"
     ]
    }
   ],
   "source": [
    "x = np.array([21, 64, 86, 22, 74, 55, 81, 79, 90, 89])\n",
    "y = np.array([21, 7, 3, 45, 10, 29, 55, 4, 37, 18])\n",
    "\n",
    "def greater(x,y):\n",
    "    gre = []\n",
    "    for i in range(10):\n",
    "        if x[i] > y[i]:\n",
    "            a = i\n",
    "            gre.append(a)\n",
    "    print(gre)\n",
    "def equal(x,y):\n",
    "\n",
    "    equ = []\n",
    "    for i in range(10):\n",
    "        if x[i] == y[i]:\n",
    "            a = i\n",
    "            equ.append(a)\n",
    "    print(equ)\n",
    "    \n",
    "greater(x,y)\n",
    "equal(x,y)"
   ]
  },
  {
   "cell_type": "code",
   "execution_count": 66,
   "metadata": {},
   "outputs": [
    {
     "name": "stdout",
     "output_type": "stream",
     "text": [
      "(array([1, 2, 4, 5, 6, 7, 8, 9]),)\n",
      "(array([0]),)\n"
     ]
    }
   ],
   "source": [
    "xGy = np.nonzero(x>y)\n",
    "xEy = np.nonzero(x==y)\n",
    "print(xGy)\n",
    "print(xEy)"
   ]
  },
  {
   "cell_type": "markdown",
   "metadata": {},
   "source": [
    "# Q4"
   ]
  },
  {
   "cell_type": "code",
   "execution_count": 59,
   "metadata": {},
   "outputs": [
    {
     "name": "stdout",
     "output_type": "stream",
     "text": [
      "[[ 0  1  2  3  4  5  6  7  8  9 10 11 12 13 14 15 16 17 18 19]\n",
      " [20 21 22 23 24 25 26 27 28 29 30 31 32 33 34 35 36 37 38 39]\n",
      " [40 41 42 43 44 45 46 47 48 49 50 51 52 53 54 55 56 57 58 59]\n",
      " [60 61 62 63 64 65 66 67 68 69 70 71 72 73 74 75 76 77 78 79]\n",
      " [80 81 82 83 84 85 86 87 88 89 90 91 92 93 94 95 96 97 98 99]]\n"
     ]
    },
    {
     "data": {
      "text/plain": [
       "array([[ 0,  1,  2,  3],\n",
       "       [20, 21, 22, 23],\n",
       "       [40, 41, 42, 43],\n",
       "       [60, 61, 62, 63],\n",
       "       [80, 81, 82, 83]])"
      ]
     },
     "execution_count": 59,
     "metadata": {},
     "output_type": "execute_result"
    }
   ],
   "source": [
    "a= np.arange(100).reshape(5,-1)\n",
    "print(a)\n",
    "a[:,:4]"
   ]
  },
  {
   "cell_type": "markdown",
   "metadata": {},
   "source": [
    "# Additional questions"
   ]
  },
  {
   "cell_type": "code",
   "execution_count": 60,
   "metadata": {},
   "outputs": [
    {
     "name": "stdout",
     "output_type": "stream",
     "text": [
      "[39 39 30 30 35 37 33 37 32 38]\n"
     ]
    }
   ],
   "source": [
    "a = np.random.randint(30,41 ,size=(10))\n",
    "print(a)"
   ]
  },
  {
   "cell_type": "code",
   "execution_count": 68,
   "metadata": {},
   "outputs": [
    {
     "name": "stdout",
     "output_type": "stream",
     "text": [
      "A: \n",
      " [[ 1  2  3]\n",
      " [ 4  5  6]\n",
      " [ 7  8 10]]\n",
      "B: \n",
      " [[ 7  8 10]\n",
      " [ 4  5  6]\n",
      " [ 1  2  3]]\n",
      "\n",
      "A + B = \n",
      " [[ 8 10 13]\n",
      " [ 8 10 12]\n",
      " [ 8 10 13]]\n",
      "\n",
      "A - B = \n",
      " [[-6 -6 -7]\n",
      " [ 0  0  0]\n",
      " [ 6  6  7]]\n",
      "\n",
      "Sum of all elements of Matrix A\n",
      " 46\n",
      "\n",
      "Sum of each column of Matrix B\n",
      " [12 15 19]\n",
      "\n",
      "Sum of each row of Matrix C\n",
      " [31 30 31]\n",
      "\n",
      "Product of two matrices A and B\n",
      " [[ 18  24  31]\n",
      " [ 54  69  88]\n",
      " [ 91 116 148]]\n",
      "\n",
      "Transpose the Matrix E\n",
      " [[ 8  8  8]\n",
      " [10 10 10]\n",
      " [12 13 13]]\n"
     ]
    }
   ],
   "source": [
    "a= np.array([[1, 2, 3], [4, 5, 6], [7, 8, 10]])\n",
    "b =np.array ([[7, 8, 10] ,[4, 5, 6], [1, 2, 3]])\n",
    "print(\"A: \\n\", a)\n",
    "print(\"B: \\n\",b)\n",
    "c = a + b\n",
    "e = a - b\n",
    "print(\"\\nA + B = \\n\", c)\n",
    "print(\"\\nA - B = \\n\", e)\n",
    "print(\"\\nSum of all elements of Matrix A\\n\", a.sum())\n",
    "print(\"\\nSum of each column of Matrix B\\n\", b.sum(axis = 0))\n",
    "print(\"\\nSum of each row of Matrix C\\n\",c.sum(axis = 1))\n",
    "d = np.dot(a,b)\n",
    "print(\"\\nProduct of two matrices A and B\\n\", d)\n",
    "c.sort(axis = 0)\n",
    "e = c\n",
    "print(\"\\nTranspose the Matrix E\\n\",e.T)"
   ]
  },
  {
   "cell_type": "code",
   "execution_count": null,
   "metadata": {},
   "outputs": [],
   "source": []
  }
 ],
 "metadata": {
  "kernelspec": {
   "display_name": "Python 3",
   "language": "python",
   "name": "python3"
  },
  "language_info": {
   "codemirror_mode": {
    "name": "ipython",
    "version": 3
   },
   "file_extension": ".py",
   "mimetype": "text/x-python",
   "name": "python",
   "nbconvert_exporter": "python",
   "pygments_lexer": "ipython3",
   "version": "3.7.0"
  }
 },
 "nbformat": 4,
 "nbformat_minor": 2
}
