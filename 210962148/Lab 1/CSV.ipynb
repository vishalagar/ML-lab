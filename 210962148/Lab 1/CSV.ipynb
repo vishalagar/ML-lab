{
 "cells": [
  {
   "cell_type": "code",
   "execution_count": 1,
   "metadata": {
    "scrolled": true
   },
   "outputs": [
    {
     "name": "stdout",
     "output_type": "stream",
     "text": [
      "['Student', ' Age', ' Marks']\n",
      "['Vishal', '20', '80']\n",
      "['ABC', ' 21', '30']\n",
      "['CVF', '19', ' 87']\n",
      "['QWE', '23', ' 90']\n",
      "['UYN', '30', '59']\n",
      "['VCH', '41', '78']\n",
      "['PLJ', '49', '20']\n",
      "['BMF', '23', '68']\n",
      "['PLE', '83', '81']\n",
      "['TBE', '29', '99']\n"
     ]
    }
   ],
   "source": [
    "import csv\n",
    "with open('data.csv','rt') as f:\n",
    "    data = csv.reader(f)\n",
    "    for row in data:\n",
    "        print(row)"
   ]
  },
  {
   "cell_type": "code",
   "execution_count": 3,
   "metadata": {},
   "outputs": [
    {
     "name": "stdout",
     "output_type": "stream",
     "text": [
      "OrderedDict([('Student', 'Vishal'), (' Age', '20'), (' Marks', '80')])\n",
      "OrderedDict([('Student', 'ABC'), (' Age', ' 21'), (' Marks', '30')])\n",
      "OrderedDict([('Student', 'CVF'), (' Age', '19'), (' Marks', ' 87')])\n",
      "OrderedDict([('Student', 'QWE'), (' Age', '23'), (' Marks', ' 90')])\n",
      "OrderedDict([('Student', 'UYN'), (' Age', '30'), (' Marks', '59')])\n",
      "OrderedDict([('Student', 'VCH'), (' Age', '41'), (' Marks', '78')])\n",
      "OrderedDict([('Student', 'PLJ'), (' Age', '49'), (' Marks', '20')])\n",
      "OrderedDict([('Student', 'BMF'), (' Age', '23'), (' Marks', '68')])\n",
      "OrderedDict([('Student', 'PLE'), (' Age', '83'), (' Marks', '81')])\n",
      "OrderedDict([('Student', 'TBE'), (' Age', '29'), (' Marks', '99')])\n"
     ]
    }
   ],
   "source": [
    "reader = csv.DictReader(open('data.csv','rt'))\n",
    "for raw in reader:\n",
    "    print(raw)"
   ]
  },
  {
   "cell_type": "code",
   "execution_count": 10,
   "metadata": {},
   "outputs": [],
   "source": [
    "with open('data.csv','w') as file:\n",
    "    writer = csv.writer(file)\n",
    "    writer.writerow(['Student', 'Age', 'Marks'])\n",
    "    writer.writerows([['Agarwal',23, 99],\n",
    "                    ['Vishal', '20', '80'],\n",
    "                    ['ABC', ' 21', '30'],\n",
    "                    ['CVF', '19', ' 87'],\n",
    "                    ['QWE', '23', ' 90'],\n",
    "                    ['UYN', '30', '59'],\n",
    "                    ['VCH', '41', '78'],\n",
    "                    ['PLJ', '49', '20'],\n",
    "                    ['BMF', '23', '68'],\n",
    "                    ['PLE', '83', '81'],\n",
    "                    ['TBE', '29', '99']]\n",
    "                    )"
   ]
  },
  {
   "cell_type": "code",
   "execution_count": 11,
   "metadata": {},
   "outputs": [],
   "source": [
    "import pandas as pd"
   ]
  },
  {
   "cell_type": "code",
   "execution_count": 12,
   "metadata": {},
   "outputs": [],
   "source": [
    "df = pd.read_csv('data.csv')"
   ]
  },
  {
   "cell_type": "code",
   "execution_count": 13,
   "metadata": {},
   "outputs": [
    {
     "data": {
      "text/html": [
       "<div>\n",
       "<style scoped>\n",
       "    .dataframe tbody tr th:only-of-type {\n",
       "        vertical-align: middle;\n",
       "    }\n",
       "\n",
       "    .dataframe tbody tr th {\n",
       "        vertical-align: top;\n",
       "    }\n",
       "\n",
       "    .dataframe thead th {\n",
       "        text-align: right;\n",
       "    }\n",
       "</style>\n",
       "<table border=\"1\" class=\"dataframe\">\n",
       "  <thead>\n",
       "    <tr style=\"text-align: right;\">\n",
       "      <th></th>\n",
       "      <th>Student</th>\n",
       "      <th>Age</th>\n",
       "      <th>Marks</th>\n",
       "    </tr>\n",
       "  </thead>\n",
       "  <tbody>\n",
       "    <tr>\n",
       "      <th>0</th>\n",
       "      <td>Agarwal</td>\n",
       "      <td>23</td>\n",
       "      <td>99</td>\n",
       "    </tr>\n",
       "    <tr>\n",
       "      <th>1</th>\n",
       "      <td>Vishal</td>\n",
       "      <td>20</td>\n",
       "      <td>80</td>\n",
       "    </tr>\n",
       "    <tr>\n",
       "      <th>2</th>\n",
       "      <td>ABC</td>\n",
       "      <td>21</td>\n",
       "      <td>30</td>\n",
       "    </tr>\n",
       "    <tr>\n",
       "      <th>3</th>\n",
       "      <td>CVF</td>\n",
       "      <td>19</td>\n",
       "      <td>87</td>\n",
       "    </tr>\n",
       "    <tr>\n",
       "      <th>4</th>\n",
       "      <td>QWE</td>\n",
       "      <td>23</td>\n",
       "      <td>90</td>\n",
       "    </tr>\n",
       "    <tr>\n",
       "      <th>5</th>\n",
       "      <td>UYN</td>\n",
       "      <td>30</td>\n",
       "      <td>59</td>\n",
       "    </tr>\n",
       "    <tr>\n",
       "      <th>6</th>\n",
       "      <td>VCH</td>\n",
       "      <td>41</td>\n",
       "      <td>78</td>\n",
       "    </tr>\n",
       "    <tr>\n",
       "      <th>7</th>\n",
       "      <td>PLJ</td>\n",
       "      <td>49</td>\n",
       "      <td>20</td>\n",
       "    </tr>\n",
       "    <tr>\n",
       "      <th>8</th>\n",
       "      <td>BMF</td>\n",
       "      <td>23</td>\n",
       "      <td>68</td>\n",
       "    </tr>\n",
       "    <tr>\n",
       "      <th>9</th>\n",
       "      <td>PLE</td>\n",
       "      <td>83</td>\n",
       "      <td>81</td>\n",
       "    </tr>\n",
       "    <tr>\n",
       "      <th>10</th>\n",
       "      <td>TBE</td>\n",
       "      <td>29</td>\n",
       "      <td>99</td>\n",
       "    </tr>\n",
       "  </tbody>\n",
       "</table>\n",
       "</div>"
      ],
      "text/plain": [
       "    Student  Age  Marks\n",
       "0   Agarwal   23     99\n",
       "1    Vishal   20     80\n",
       "2       ABC   21     30\n",
       "3       CVF   19     87\n",
       "4       QWE   23     90\n",
       "5       UYN   30     59\n",
       "6       VCH   41     78\n",
       "7       PLJ   49     20\n",
       "8       BMF   23     68\n",
       "9       PLE   83     81\n",
       "10      TBE   29     99"
      ]
     },
     "execution_count": 13,
     "metadata": {},
     "output_type": "execute_result"
    }
   ],
   "source": [
    "df"
   ]
  },
  {
   "cell_type": "code",
   "execution_count": null,
   "metadata": {},
   "outputs": [],
   "source": []
  }
 ],
 "metadata": {
  "kernelspec": {
   "display_name": "Python 3",
   "language": "python",
   "name": "python3"
  },
  "language_info": {
   "codemirror_mode": {
    "name": "ipython",
    "version": 3
   },
   "file_extension": ".py",
   "mimetype": "text/x-python",
   "name": "python",
   "nbconvert_exporter": "python",
   "pygments_lexer": "ipython3",
   "version": "3.7.0"
  }
 },
 "nbformat": 4,
 "nbformat_minor": 2
}
